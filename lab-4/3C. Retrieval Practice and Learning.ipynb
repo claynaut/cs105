{
 "cells": [
  {
   "cell_type": "markdown",
   "metadata": {
    "colab_type": "text",
    "id": "1aPshrzKvAlN"
   },
   "source": [
    "# Retrieval Practice and Learning\n",
    "\n",
    "What is the most effective way to learn a subject? Many students focus exclusively on the _encoding_ process---that is, how to get the knowledge into memory in the first place. For example, taking notes is an activity for encoding knowledge.\n",
    "\n",
    "_Retrieval_, on the other hand, is the process of reconstructing that knowledge from memory. [Karpicke and Blunt](http://science.sciencemag.org/content/331/6018/772) (2011) demonstrated that _retrieval_ is more effective for learning than activites designed to promote effective encoding. They conducted an experiment in which subjects had to learn about sea otters by reading a passage. Subjects were randomly assigned to one of two conditions: some were instructed to create a [concept map](https://en.wikipedia.org/wiki/Concept_map) as they read the passage, while others were instructed to practice retrieval (i.e., read the passage, recall as much as they could, read the text again, and recall again). The two main measurements they recorded were:\n",
    "\n",
    "1. each subject's score on a follow-up learning test one week later\n",
    "2. each subject's _prediction_ of how well they would do on that test\n",
    "\n",
    "In this lab, you will analyze data from a _replication_ of Karpicke and Blunt's experiment, conducted by Buttrick _et al_.\n",
    "- The data file is : data.csv.\n",
    "- The codebook (explaining what the variables mean) is : codebook.csv."
   ]
  },
  {
   "cell_type": "code",
   "execution_count": 1,
   "metadata": {
    "colab": {},
    "colab_type": "code",
    "id": "aA3QAljEvAlO"
   },
   "outputs": [
    {
     "data": {
      "text/html": [
       "<div>\n",
       "<style scoped>\n",
       "    .dataframe tbody tr th:only-of-type {\n",
       "        vertical-align: middle;\n",
       "    }\n",
       "\n",
       "    .dataframe tbody tr th {\n",
       "        vertical-align: top;\n",
       "    }\n",
       "\n",
       "    .dataframe thead th {\n",
       "        text-align: right;\n",
       "    }\n",
       "</style>\n",
       "<table border=\"1\" class=\"dataframe\">\n",
       "  <thead>\n",
       "    <tr style=\"text-align: right;\">\n",
       "      <th></th>\n",
       "      <th>ID</th>\n",
       "      <th>Age</th>\n",
       "      <th>Gender</th>\n",
       "      <th>Date.P1</th>\n",
       "      <th>Date.P2</th>\n",
       "      <th>Condition</th>\n",
       "      <th>IC.1</th>\n",
       "      <th>IC.2</th>\n",
       "      <th>Comp.1</th>\n",
       "      <th>Comp.2</th>\n",
       "      <th>...</th>\n",
       "      <th>Scorer.2.2</th>\n",
       "      <th>R2CS.avg</th>\n",
       "      <th>TS.1</th>\n",
       "      <th>Scorer.1.3</th>\n",
       "      <th>TS.2</th>\n",
       "      <th>Scorer.2.3</th>\n",
       "      <th>TS.avg</th>\n",
       "      <th>Exc.1</th>\n",
       "      <th>Exc.2</th>\n",
       "      <th>Collection</th>\n",
       "    </tr>\n",
       "  </thead>\n",
       "  <tbody>\n",
       "    <tr>\n",
       "      <th>0</th>\n",
       "      <td>KB1</td>\n",
       "      <td>18</td>\n",
       "      <td>Female</td>\n",
       "      <td>11/21/16</td>\n",
       "      <td>11/28/16</td>\n",
       "      <td>Concept</td>\n",
       "      <td>1</td>\n",
       "      <td>1</td>\n",
       "      <td>1</td>\n",
       "      <td>1</td>\n",
       "      <td>...</td>\n",
       "      <td>NaN</td>\n",
       "      <td>NaN</td>\n",
       "      <td>0.36</td>\n",
       "      <td>NK</td>\n",
       "      <td>0.42</td>\n",
       "      <td>MS</td>\n",
       "      <td>0.39</td>\n",
       "      <td>0</td>\n",
       "      <td>0</td>\n",
       "      <td>1</td>\n",
       "    </tr>\n",
       "    <tr>\n",
       "      <th>1</th>\n",
       "      <td>KB2</td>\n",
       "      <td>18</td>\n",
       "      <td>Male</td>\n",
       "      <td>11/21/16</td>\n",
       "      <td>11/28/16</td>\n",
       "      <td>Concept</td>\n",
       "      <td>1</td>\n",
       "      <td>1</td>\n",
       "      <td>1</td>\n",
       "      <td>1</td>\n",
       "      <td>...</td>\n",
       "      <td>NaN</td>\n",
       "      <td>NaN</td>\n",
       "      <td>0.48</td>\n",
       "      <td>MS</td>\n",
       "      <td>0.36</td>\n",
       "      <td>NK</td>\n",
       "      <td>0.42</td>\n",
       "      <td>0</td>\n",
       "      <td>0</td>\n",
       "      <td>1</td>\n",
       "    </tr>\n",
       "    <tr>\n",
       "      <th>2</th>\n",
       "      <td>KB3</td>\n",
       "      <td>18</td>\n",
       "      <td>Male</td>\n",
       "      <td>11/21/16</td>\n",
       "      <td>11/28/16</td>\n",
       "      <td>Concept</td>\n",
       "      <td>1</td>\n",
       "      <td>1</td>\n",
       "      <td>1</td>\n",
       "      <td>1</td>\n",
       "      <td>...</td>\n",
       "      <td>NaN</td>\n",
       "      <td>NaN</td>\n",
       "      <td>0.08</td>\n",
       "      <td>NK</td>\n",
       "      <td>0.08</td>\n",
       "      <td>MS</td>\n",
       "      <td>0.08</td>\n",
       "      <td>0</td>\n",
       "      <td>0</td>\n",
       "      <td>1</td>\n",
       "    </tr>\n",
       "    <tr>\n",
       "      <th>3</th>\n",
       "      <td>KB4</td>\n",
       "      <td>19</td>\n",
       "      <td>Female</td>\n",
       "      <td>11/21/16</td>\n",
       "      <td>11/28/16</td>\n",
       "      <td>Concept</td>\n",
       "      <td>1</td>\n",
       "      <td>1</td>\n",
       "      <td>1</td>\n",
       "      <td>1</td>\n",
       "      <td>...</td>\n",
       "      <td>NaN</td>\n",
       "      <td>NaN</td>\n",
       "      <td>0.44</td>\n",
       "      <td>MS</td>\n",
       "      <td>0.42</td>\n",
       "      <td>NK</td>\n",
       "      <td>0.43</td>\n",
       "      <td>0</td>\n",
       "      <td>0</td>\n",
       "      <td>1</td>\n",
       "    </tr>\n",
       "    <tr>\n",
       "      <th>4</th>\n",
       "      <td>KB5</td>\n",
       "      <td>19</td>\n",
       "      <td>Female</td>\n",
       "      <td>11/22/16</td>\n",
       "      <td>11/29/16</td>\n",
       "      <td>Concept</td>\n",
       "      <td>1</td>\n",
       "      <td>1</td>\n",
       "      <td>1</td>\n",
       "      <td>1</td>\n",
       "      <td>...</td>\n",
       "      <td>NaN</td>\n",
       "      <td>NaN</td>\n",
       "      <td>0.26</td>\n",
       "      <td>NK</td>\n",
       "      <td>0.28</td>\n",
       "      <td>MS</td>\n",
       "      <td>0.27</td>\n",
       "      <td>0</td>\n",
       "      <td>0</td>\n",
       "      <td>1</td>\n",
       "    </tr>\n",
       "  </tbody>\n",
       "</table>\n",
       "<p>5 rows × 35 columns</p>\n",
       "</div>"
      ],
      "text/plain": [
       "    ID  Age  Gender   Date.P1   Date.P2 Condition  IC.1  IC.2  Comp.1  Comp.2  \\\n",
       "0  KB1   18  Female  11/21/16  11/28/16   Concept     1     1       1       1   \n",
       "1  KB2   18    Male  11/21/16  11/28/16   Concept     1     1       1       1   \n",
       "2  KB3   18    Male  11/21/16  11/28/16   Concept     1     1       1       1   \n",
       "3  KB4   19  Female  11/21/16  11/28/16   Concept     1     1       1       1   \n",
       "4  KB5   19  Female  11/22/16  11/29/16   Concept     1     1       1       1   \n",
       "\n",
       "   ...  Scorer.2.2  R2CS.avg  TS.1 Scorer.1.3  TS.2 Scorer.2.3  TS.avg  Exc.1  \\\n",
       "0  ...         NaN       NaN  0.36         NK  0.42         MS    0.39      0   \n",
       "1  ...         NaN       NaN  0.48         MS  0.36         NK    0.42      0   \n",
       "2  ...         NaN       NaN  0.08         NK  0.08         MS    0.08      0   \n",
       "3  ...         NaN       NaN  0.44         MS  0.42         NK    0.43      0   \n",
       "4  ...         NaN       NaN  0.26         NK  0.28         MS    0.27      0   \n",
       "\n",
       "  Exc.2  Collection  \n",
       "0     0           1  \n",
       "1     0           1  \n",
       "2     0           1  \n",
       "3     0           1  \n",
       "4     0           1  \n",
       "\n",
       "[5 rows x 35 columns]"
      ]
     },
     "execution_count": 1,
     "metadata": {},
     "output_type": "execute_result"
    }
   ],
   "source": [
    "import pandas as pd\n",
    "df = pd.read_csv('data.csv')\n",
    "df.head()"
   ]
  },
  {
   "cell_type": "markdown",
   "metadata": {
    "colab_type": "text",
    "id": "dK2K5TkivAlT"
   },
   "source": [
    "# Question 1\n",
    "\n",
    "Which group felt like they learned more: the subjects who made concept maps or the ones who practiced retrieval? (Or are they about the same?) Make an appropriate visualization and explain what you see.\n",
    "\n",
    "_Hint:_ Use the variable `PR.2`, which contains the participants' predictions of how well they would do on a test one week later. "
   ]
  },
  {
   "cell_type": "code",
   "execution_count": 2,
   "metadata": {
    "colab": {},
    "colab_type": "code",
    "id": "IMh2REXUvAlT"
   },
   "outputs": [
    {
     "data": {
      "text/plain": [
       "<AxesSubplot:xlabel='Condition'>"
      ]
     },
     "execution_count": 2,
     "metadata": {},
     "output_type": "execute_result"
    },
    {
     "data": {
      "image/png": "[encoded data removed]",
      "text/plain": [
       "<Figure size 432x288 with 1 Axes>"
      ]
     },
     "metadata": {
      "needs_background": "light"
     },
     "output_type": "display_data"
    }
   ],
   "source": [
    "x = df.groupby('Condition')['PR.2'].mean()\n",
    "x.plot.bar(color=['orange','darkcyan'])"
   ]
  },
  {
   "cell_type": "markdown",
   "metadata": {
    "colab_type": "text",
    "id": "TvM6_uHxvAlX"
   },
   "source": [
    "Based on the graph, subjects who made concept maps believed they would do better on a test a week later."
   ]
  },
  {
   "cell_type": "markdown",
   "metadata": {
    "colab_type": "text",
    "id": "U5hlEgvzvAlY"
   },
   "source": [
    "# Question 2\n",
    "\n",
    "Which group actually did better on the follow-up learning test one week later? Make an appropriate visualization and explain what you see.\n",
    "\n",
    "_Hint:_ Don't ask which variable you should use. That is for you to figure out. Read the codebook carefully (consulting the [original paper](http://science.sciencemag.org/content/331/6018/772), if necessary), make an informed decision, and explain your choice."
   ]
  },
  {
   "cell_type": "code",
   "execution_count": 3,
   "metadata": {
    "colab": {},
    "colab_type": "code",
    "id": "9m-bnR0zvAlY"
   },
   "outputs": [
    {
     "data": {
      "text/plain": [
       "<AxesSubplot:xlabel='Condition'>"
      ]
     },
     "execution_count": 3,
     "metadata": {},
     "output_type": "execute_result"
    },
    {
     "data": {
      "image/png": "[encoded data removed]",
      "text/plain": [
       "<Figure size 432x288 with 1 Axes>"
      ]
     },
     "metadata": {
      "needs_background": "light"
     },
     "output_type": "display_data"
    }
   ],
   "source": [
    "y = df.groupby('Condition')['TS.avg'].mean()\n",
    "y.plot.bar(color=['orange','darkcyan'])"
   ]
  },
  {
   "cell_type": "markdown",
   "metadata": {
    "colab_type": "text",
    "id": "BPPeUIC2vAlb"
   },
   "source": [
    "Based on the graph, subjects who practiced retrieval actually did better on the follow-up learning test a week later."
   ]
  },
  {
   "cell_type": "markdown",
   "metadata": {
    "colab_type": "text",
    "id": "54XjgjwnvAlb"
   },
   "source": [
    "# Question 3\n",
    "\n",
    "How good were subjects at predicting how well they would do on the follow-up learning test? Calculate a measure of how well subjects predicted their performance and interpret the value in context. (Optionally, you may want to include a visualization as well.)"
   ]
  },
  {
   "cell_type": "code",
   "execution_count": 4,
   "metadata": {
    "colab": {},
    "colab_type": "code",
    "id": "71FljkvqvAlc"
   },
   "outputs": [
    {
     "data": {
      "text/html": [
       "<div>\n",
       "<style scoped>\n",
       "    .dataframe tbody tr th:only-of-type {\n",
       "        vertical-align: middle;\n",
       "    }\n",
       "\n",
       "    .dataframe tbody tr th {\n",
       "        vertical-align: top;\n",
       "    }\n",
       "\n",
       "    .dataframe thead th {\n",
       "        text-align: right;\n",
       "    }\n",
       "</style>\n",
       "<table border=\"1\" class=\"dataframe\">\n",
       "  <thead>\n",
       "    <tr style=\"text-align: right;\">\n",
       "      <th></th>\n",
       "      <th>Prediction Average %</th>\n",
       "    </tr>\n",
       "  </thead>\n",
       "  <tbody>\n",
       "    <tr>\n",
       "      <th>Concept</th>\n",
       "      <td>100.065908</td>\n",
       "    </tr>\n",
       "    <tr>\n",
       "      <th>Retrieval</th>\n",
       "      <td>34.320657</td>\n",
       "    </tr>\n",
       "  </tbody>\n",
       "</table>\n",
       "</div>"
      ],
      "text/plain": [
       "           Prediction Average %\n",
       "Concept              100.065908\n",
       "Retrieval             34.320657"
      ]
     },
     "execution_count": 4,
     "metadata": {},
     "output_type": "execute_result"
    }
   ],
   "source": [
    "# formula = (actual - expected) / actual * 100\n",
    "z = df.groupby('Condition').apply(lambda x: abs(x['PR.2'] - x['TS.avg']) / x['TS.avg'] * 100) # calculate the bias of a subject's prediction\n",
    "predictions = pd.DataFrame({'Prediction Average %': [z.Concept.mean(), z.Retrieval.mean()]}, index=['Concept', 'Retrieval']) # create a new dataframe with the average accuracy of predictions\n",
    "predictions.head()"
   ]
  },
  {
   "cell_type": "code",
   "execution_count": 5,
   "metadata": {},
   "outputs": [
    {
     "data": {
      "text/plain": [
       "<AxesSubplot:>"
      ]
     },
     "execution_count": 5,
     "metadata": {},
     "output_type": "execute_result"
    },
    {
     "data": {
      "image/png": "[encoded data removed]",
      "text/plain": [
       "<Figure size 432x288 with 1 Axes>"
      ]
     },
     "metadata": {
      "needs_background": "light"
     },
     "output_type": "display_data"
    }
   ],
   "source": [
    "predictions.plot.bar()"
   ]
  },
  {
   "cell_type": "markdown",
   "metadata": {
    "colab_type": "text",
    "id": "3EZ15Z6kvAle"
   },
   "source": [
    "Based on the table/bar graph, we can clearly see that subjects from the Concept category had a higher rate of predicting that they would do well on the follow-up learning test compared to subjects from the Retrieval category."
   ]
  },
  {
   "cell_type": "markdown",
   "metadata": {
    "colab_type": "text",
    "id": "7iD39TKdvAlf"
   },
   "source": [
    "# Question 4\n",
    "\n",
    "This was a completely randomized experiment. This means that the condition that each subject was assigned to should be independent of their gender, age, and any other subject characteristics. Does that seem to be true in this case? Calculate a summary measure and/or make a visualization, and explain what you see."
   ]
  },
  {
   "cell_type": "code",
   "execution_count": 6,
   "metadata": {
    "colab": {},
    "colab_type": "code",
    "id": "nlw6JXpTvAlf"
   },
   "outputs": [
    {
     "data": {
      "text/html": [
       "<div>\n",
       "<style scoped>\n",
       "    .dataframe tbody tr th:only-of-type {\n",
       "        vertical-align: middle;\n",
       "    }\n",
       "\n",
       "    .dataframe tbody tr th {\n",
       "        vertical-align: top;\n",
       "    }\n",
       "\n",
       "    .dataframe thead th {\n",
       "        text-align: right;\n",
       "    }\n",
       "</style>\n",
       "<table border=\"1\" class=\"dataframe\">\n",
       "  <thead>\n",
       "    <tr style=\"text-align: right;\">\n",
       "      <th>Age</th>\n",
       "      <th>17</th>\n",
       "      <th>18</th>\n",
       "      <th>19</th>\n",
       "      <th>20</th>\n",
       "      <th>21</th>\n",
       "      <th>22</th>\n",
       "    </tr>\n",
       "    <tr>\n",
       "      <th>Condition</th>\n",
       "      <th></th>\n",
       "      <th></th>\n",
       "      <th></th>\n",
       "      <th></th>\n",
       "      <th></th>\n",
       "      <th></th>\n",
       "    </tr>\n",
       "  </thead>\n",
       "  <tbody>\n",
       "    <tr>\n",
       "      <th>Concept</th>\n",
       "      <td>0</td>\n",
       "      <td>11</td>\n",
       "      <td>8</td>\n",
       "      <td>5</td>\n",
       "      <td>2</td>\n",
       "      <td>0</td>\n",
       "    </tr>\n",
       "    <tr>\n",
       "      <th>Retrieval</th>\n",
       "      <td>1</td>\n",
       "      <td>3</td>\n",
       "      <td>6</td>\n",
       "      <td>4</td>\n",
       "      <td>2</td>\n",
       "      <td>1</td>\n",
       "    </tr>\n",
       "  </tbody>\n",
       "</table>\n",
       "</div>"
      ],
      "text/plain": [
       "Age        17  18  19  20  21  22\n",
       "Condition                        \n",
       "Concept     0  11   8   5   2   0\n",
       "Retrieval   1   3   6   4   2   1"
      ]
     },
     "execution_count": 6,
     "metadata": {},
     "output_type": "execute_result"
    }
   ],
   "source": [
    "import seaborn as sns\n",
    "condition_age = pd.crosstab(df.Condition, df.Age)\n",
    "condition_age.head()"
   ]
  },
  {
   "cell_type": "code",
   "execution_count": 7,
   "metadata": {},
   "outputs": [
    {
     "data": {
      "text/plain": [
       "<AxesSubplot:xlabel='Condition'>"
      ]
     },
     "execution_count": 7,
     "metadata": {},
     "output_type": "execute_result"
    },
    {
     "data": {
      "image/png": "[encoded data removed]",
      "text/plain": [
       "<Figure size 432x288 with 1 Axes>"
      ]
     },
     "metadata": {
      "needs_background": "light"
     },
     "output_type": "display_data"
    }
   ],
   "source": [
    "condition_age.plot.bar() # make a bar graph of genders categorized by age"
   ]
  },
  {
   "cell_type": "markdown",
   "metadata": {},
   "source": [
    "Based on the table/bar graph, we can see that there may be a bias for choosing subjects in a younger age range, more notably 18 and 19 year olds, to be assigned in the Concept condition."
   ]
  },
  {
   "cell_type": "code",
   "execution_count": 8,
   "metadata": {},
   "outputs": [
    {
     "data": {
      "text/html": [
       "<div>\n",
       "<style scoped>\n",
       "    .dataframe tbody tr th:only-of-type {\n",
       "        vertical-align: middle;\n",
       "    }\n",
       "\n",
       "    .dataframe tbody tr th {\n",
       "        vertical-align: top;\n",
       "    }\n",
       "\n",
       "    .dataframe thead th {\n",
       "        text-align: right;\n",
       "    }\n",
       "</style>\n",
       "<table border=\"1\" class=\"dataframe\">\n",
       "  <thead>\n",
       "    <tr style=\"text-align: right;\">\n",
       "      <th>Gender</th>\n",
       "      <th>Female</th>\n",
       "      <th>Male</th>\n",
       "    </tr>\n",
       "    <tr>\n",
       "      <th>Condition</th>\n",
       "      <th></th>\n",
       "      <th></th>\n",
       "    </tr>\n",
       "  </thead>\n",
       "  <tbody>\n",
       "    <tr>\n",
       "      <th>Concept</th>\n",
       "      <td>9</td>\n",
       "      <td>17</td>\n",
       "    </tr>\n",
       "    <tr>\n",
       "      <th>Retrieval</th>\n",
       "      <td>12</td>\n",
       "      <td>5</td>\n",
       "    </tr>\n",
       "  </tbody>\n",
       "</table>\n",
       "</div>"
      ],
      "text/plain": [
       "Gender     Female  Male\n",
       "Condition              \n",
       "Concept         9    17\n",
       "Retrieval      12     5"
      ]
     },
     "execution_count": 8,
     "metadata": {},
     "output_type": "execute_result"
    }
   ],
   "source": [
    "condition_gender = pd.crosstab(df.Condition, df.Gender)\n",
    "condition_gender.head()"
   ]
  },
  {
   "cell_type": "code",
   "execution_count": 9,
   "metadata": {},
   "outputs": [
    {
     "data": {
      "text/plain": [
       "<AxesSubplot:xlabel='Condition'>"
      ]
     },
     "execution_count": 9,
     "metadata": {},
     "output_type": "execute_result"
    },
    {
     "data": {
      "image/png": "[encoded data removed]",
      "text/plain": [
       "<Figure size 432x288 with 1 Axes>"
      ]
     },
     "metadata": {
      "needs_background": "light"
     },
     "output_type": "display_data"
    }
   ],
   "source": [
    "condition_gender.plot.bar() # make a bar graph of genders categorized by condition"
   ]
  },
  {
   "cell_type": "markdown",
   "metadata": {},
   "source": [
    "Based on the table/bar graph, we can see that it seems like more males are assigned to Concept while more females are assigned to Retrieval. Though this experiment may have been completely randomized, there still appears to be some bias when choosing which subjects to assign to which categories."
   ]
  },
  {
   "cell_type": "markdown",
   "metadata": {
    "colab_type": "text",
    "id": "eJ67dulfvAlm"
   },
   "source": [
    "# Submission Instructions\n",
    "\n",
    "Once you are finished, follow these steps:\n",
    "\n",
    "1. Restart the kernel and re-run this notebook from beginning to end by going to `Kernel > Restart Kernel and Run All Cells`.\n",
    "2. If this process stops halfway through, that means there was an error. Correct the error and repeat Step 1 until the notebook runs from beginning to end.\n",
    "3. Double check that there is a number next to each code cell and that these numbers are in order.\n",
    "\n",
    "Then, submit your lab as follows:\n",
    "\n",
    "1. Go to `File > Export Notebook As > PDF`.\n",
    "2. Double check that the entire notebook, from beginning to end, is in this PDF file. (If the notebook is cut off, try first exporting the notebook to HTML and printing to PDF.)\n",
    "3. Upload the PDF to Gradescope and Notebook (ipynb) to iLearn."
   ]
  }
 ],
 "metadata": {
  "colab": {
   "name": "3C. Retrieval Practice and Learning.ipynb",
   "provenance": []
  },
  "kernelspec": {
   "display_name": "Python 3 (ipykernel)",
   "language": "python",
   "name": "python3"
  },
  "language_info": {
   "codemirror_mode": {
    "name": "ipython",
    "version": 3
   },
   "file_extension": ".py",
   "mimetype": "text/x-python",
   "name": "python",
   "nbconvert_exporter": "python",
   "pygments_lexer": "ipython3",
   "version": "3.9.7"
  }
 },
 "nbformat": 4,
 "nbformat_minor": 4
}
